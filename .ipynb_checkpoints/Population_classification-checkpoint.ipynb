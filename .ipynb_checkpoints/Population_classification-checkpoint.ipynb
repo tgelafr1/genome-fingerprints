{
 "cells": [
  {
   "cell_type": "code",
   "execution_count": 1,
   "metadata": {},
   "outputs": [],
   "source": [
    "import os\n",
    "import gzip\n",
    "import pandas as pd\n",
    "from scipy.stats import spearmanr"
   ]
  },
  {
   "cell_type": "code",
   "execution_count": 2,
   "metadata": {},
   "outputs": [],
   "source": [
    "def get_fp_file(pop_csv_file, fp_folder):\n",
    "    \"\"\"Returns dictionary of fingerprint paths with population as the key\n",
    "    \"\"\"\n",
    "    # get sample names and population as dataframe\n",
    "\n",
    "    pop_csv = pd.read_csv(pop_csv_file)\n",
    "\n",
    "    # build dictionary of fp_file_dict\n",
    "    fp_file_dict = {}\n",
    "\n",
    "    for fp_file in os.listdir(fp_folder):\n",
    "        if fp_file.endswith(\".outn.gz\"):        \n",
    "            sample = fp_file.split('.')[0]\n",
    "            row = pop_csv.loc[pop_csv['Sample'] == sample]\n",
    "            pop = row.iloc[0,1]\n",
    "\n",
    "            if pop not in fp_file_dict:\n",
    "                fp_file_dict[pop] = []\n",
    "\n",
    "            l = fp_file_dict[pop]\n",
    "            l.append(fp_folder + fp_file)\n",
    "            fp_file_dict[pop] = l\n",
    "    \n",
    "    return fp_file_dict"
   ]
  },
  {
   "cell_type": "code",
   "execution_count": 3,
   "metadata": {},
   "outputs": [],
   "source": [
    "## parse for fingerprints of L=120\n",
    "def read_fp(fp_file,L=120):\n",
    "    fp = {}\n",
    "    with gzip.open(fp_file,'rt') as f:\n",
    "        for i,line in enumerate(f):\n",
    "            s = line.strip().split('\\t')\n",
    "            if s[0] == str(L):\n",
    "                fp[s[1]] = [float(i) for i in s[2:]]\n",
    "    \n",
    "    return fp"
   ]
  },
  {
   "cell_type": "code",
   "execution_count": 8,
   "metadata": {},
   "outputs": [],
   "source": [
    "def read_pop_fp(fp_file_dict, pop):\n",
    "    \"\"\"Reads all fingerprints from a population\n",
    "    \n",
    "    Returns a dictionary of all fingerprints from a population\n",
    "    \"\"\"\n",
    "    \n",
    "    pop_fp = {}\n",
    "    for fp_path in fp_file_dict[pop]:\n",
    "        fp_file = fp_path.split('/')[-1]\n",
    "        sample = fp_file.split('.')[0]\n",
    "        \n",
    "        pop_fp[sample] = read_fp(fp_path)\n",
    "        \n",
    "    \n",
    "    return pop_fp"
   ]
  },
  {
   "cell_type": "code",
   "execution_count": 5,
   "metadata": {},
   "outputs": [],
   "source": [
    "def compute_loo_population(pop_fp, loo_sample):\n",
    "    \"\"\"compute leave-one-out population fingerprint\n",
    "    \n",
    "        Arguments\n",
    "            pop_fp {dict} -- dictionary of all fingerprints from a population\n",
    "            loo_sample {string} -- sample to leave out of the population fingerprint\n",
    "        \n",
    "        Returns\n",
    "            loo_pop {dict} -- a dictionary representing the population fingerprint\n",
    "    \"\"\"\n",
    "    loo_pop = {}\n",
    "    snp = list(pop_fp[loo_sample].keys())\n",
    "    \n",
    "    return None"
   ]
  },
  {
   "cell_type": "code",
   "execution_count": 16,
   "metadata": {},
   "outputs": [
    {
     "data": {
      "text/plain": [
       "'HG02088'"
      ]
     },
     "execution_count": 16,
     "metadata": {},
     "output_type": "execute_result"
    }
   ],
   "source": [
    "# parameters\n",
    "pop_csv_file = '/Users/victor/github/genome-fingerprints/data/sample_names_6_pop.csv'\n",
    "fp_folder = '/Users/victor/Documents/results_chr21/k2/mean/'\n",
    "\n",
    "# get fingerprint location by population\n",
    "fp_file_dict = get_fp_file(pop_csv_file, fp_folder)\n",
    "\n",
    "# read in fingerprints from population\n",
    "pop = list(fp_file_dict.keys())[0]   #choose a population\n",
    "\n",
    "pop_fp = read_pop_fp(fp_file_dict,pop)\n",
    "\n",
    "\n",
    "# compute leave-one-out population fingerprint\n",
    "loo_sample = list(pop_fp.keys())[0]  #choose a sample to leave out\n",
    "loo_sample"
   ]
  },
  {
   "cell_type": "code",
   "execution_count": 13,
   "metadata": {},
   "outputs": [
    {
     "data": {
      "text/plain": [
       "dict_keys(['HG02088', 'HG01865', 'HG02512', 'HG02031', 'HG01598', 'HG02122', 'HG02081', 'HG02028', 'HG02140', 'HG02075', 'HG02017', 'HG01843', 'HG01853', 'HG02133', 'HG02141', 'HG02029', 'HG02064', 'HG01852', 'HG01842', 'HG02016', 'HG02513', 'HG02020', 'HG01874', 'HG01864', 'HG01599', 'HG02082', 'HG01600', 'HG02131', 'HG02049', 'HG02121', 'HG01840', 'HG01850', 'HG02076', 'HG02128', 'HG02050', 'HG02138', 'HG02040', 'HG02032', 'HG01866', 'HG01859', 'HG01849', 'HG02139', 'HG01867', 'HG02023', 'HG02116', 'HG01848', 'HG01858', 'HG02142', 'HG02058', 'HG02048', 'HG02130', 'HG01851', 'HG01841', 'HG02067', 'HG01844', 'HG01596', 'HG02072', 'HG02086', 'HG02113', 'HG02019', 'HG01862', 'HG01872', 'HG02026', 'HG01873', 'HG01863', 'HG01855', 'HG01845', 'HG01597', 'HG02522', 'HG02073', 'HG02087', 'HG02134', 'HG02078', 'HG02035', 'HG02025', 'HG01861', 'HG01871', 'HG02057', 'HG02047', 'HG02061', 'HG01595', 'HG01847', 'HG01857', 'HG02136', 'HG01878', 'HG01868', 'HG02085', 'HG02060', 'HG02070', 'HG02521', 'HG01846', 'HG02127', 'HG02137', 'HG01869', 'HG02084', 'HG02079', 'HG02069', 'HG01870', 'HG01860'])"
      ]
     },
     "execution_count": 13,
     "metadata": {},
     "output_type": "execute_result"
    }
   ],
   "source": [
    "pop_fp.keys()"
   ]
  },
  {
   "cell_type": "code",
   "execution_count": 15,
   "metadata": {},
   "outputs": [
    {
     "data": {
      "text/plain": [
       "[-0.908,\n",
       " 2.726,\n",
       " 0.198,\n",
       " -0.437,\n",
       " -0.763,\n",
       " -1.006,\n",
       " 0.329,\n",
       " 0.529,\n",
       " 1.521,\n",
       " -0.828,\n",
       " -0.578,\n",
       " -0.65,\n",
       " 1.444,\n",
       " 0.565,\n",
       " 0.586,\n",
       " 1.747,\n",
       " -0.551,\n",
       " -0.618,\n",
       " -0.755,\n",
       " -0.883,\n",
       " -0.783,\n",
       " 0.113,\n",
       " -0.979,\n",
       " 1.661,\n",
       " -0.868,\n",
       " 0.821,\n",
       " -0.052,\n",
       " -0.916,\n",
       " -0.68,\n",
       " 0.137,\n",
       " -0.79,\n",
       " -0.639,\n",
       " -0.859,\n",
       " -0.878,\n",
       " 0.04,\n",
       " 0.102,\n",
       " 0.865,\n",
       " -0.03,\n",
       " 0.879,\n",
       " -0.606,\n",
       " -0.95,\n",
       " 1.076,\n",
       " -0.568,\n",
       " -0.872,\n",
       " -0.775,\n",
       " 0.139,\n",
       " 0.233,\n",
       " -0.009,\n",
       " -0.849,\n",
       " -0.653,\n",
       " -0.097,\n",
       " -0.793,\n",
       " -0.759,\n",
       " 0.181,\n",
       " 0.143,\n",
       " 2.927,\n",
       " 0.091,\n",
       " -0.849,\n",
       " 1.004,\n",
       " -1.081,\n",
       " -0.921,\n",
       " 1.153,\n",
       " -0.673,\n",
       " -0.666,\n",
       " 1.231,\n",
       " 1.044,\n",
       " -0.915,\n",
       " 0.283,\n",
       " 0.051,\n",
       " -0.62,\n",
       " 0.044,\n",
       " -1.004,\n",
       " 0.136,\n",
       " -0.701,\n",
       " -0.701,\n",
       " -0.683,\n",
       " 0.271,\n",
       " 1.089,\n",
       " -0.689,\n",
       " 4.345,\n",
       " -0.776,\n",
       " -0.68,\n",
       " 1.231,\n",
       " -0.931,\n",
       " 1.242,\n",
       " 0.21,\n",
       " -0.745,\n",
       " -0.866,\n",
       " -0.692,\n",
       " 0.397,\n",
       " -0.763,\n",
       " 1.063,\n",
       " -0.655,\n",
       " -0.582,\n",
       " -0.57,\n",
       " 1.233,\n",
       " -0.894,\n",
       " -0.719,\n",
       " 2.421,\n",
       " 1.556,\n",
       " 0.232,\n",
       " 0.254,\n",
       " 1.43,\n",
       " 1.437,\n",
       " -0.976,\n",
       " 0.257,\n",
       " 0.478,\n",
       " 0.473,\n",
       " 0.336,\n",
       " -0.795,\n",
       " 0.302,\n",
       " -0.798,\n",
       " 0.064,\n",
       " -0.812,\n",
       " -0.532,\n",
       " 2.459,\n",
       " -0.764,\n",
       " 0.451,\n",
       " -0.607,\n",
       " -1.188]"
      ]
     },
     "execution_count": 15,
     "metadata": {},
     "output_type": "execute_result"
    }
   ],
   "source": [
    "pop_fp['HG02088']['ACAC']"
   ]
  },
  {
   "cell_type": "code",
   "execution_count": null,
   "metadata": {},
   "outputs": [],
   "source": []
  }
 ],
 "metadata": {
  "kernelspec": {
   "display_name": "Python 3",
   "language": "python",
   "name": "python3"
  },
  "language_info": {
   "codemirror_mode": {
    "name": "ipython",
    "version": 3
   },
   "file_extension": ".py",
   "mimetype": "text/x-python",
   "name": "python",
   "nbconvert_exporter": "python",
   "pygments_lexer": "ipython3",
   "version": "3.7.3"
  }
 },
 "nbformat": 4,
 "nbformat_minor": 4
}
