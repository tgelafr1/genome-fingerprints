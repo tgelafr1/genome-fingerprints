{
 "cells": [
  {
   "cell_type": "markdown",
   "metadata": {},
   "source": [
    "Get subpopulation from 1000 Genomes Project"
   ]
  },
  {
   "cell_type": "code",
   "execution_count": 6,
   "metadata": {},
   "outputs": [],
   "source": [
    "import pandas as pd\n",
    "import matplotlib.pyplot as plt\n",
    "import seaborn as sns"
   ]
  },
  {
   "cell_type": "code",
   "execution_count": 7,
   "metadata": {},
   "outputs": [],
   "source": [
    "# population csv\n",
    "pop_csv_path = 'data/actual_sample_names.csv'"
   ]
  },
  {
   "cell_type": "code",
   "execution_count": 8,
   "metadata": {},
   "outputs": [
    {
     "data": {
      "text/html": [
       "<div>\n",
       "<style scoped>\n",
       "    .dataframe tbody tr th:only-of-type {\n",
       "        vertical-align: middle;\n",
       "    }\n",
       "\n",
       "    .dataframe tbody tr th {\n",
       "        vertical-align: top;\n",
       "    }\n",
       "\n",
       "    .dataframe thead th {\n",
       "        text-align: right;\n",
       "    }\n",
       "</style>\n",
       "<table border=\"1\" class=\"dataframe\">\n",
       "  <thead>\n",
       "    <tr style=\"text-align: right;\">\n",
       "      <th></th>\n",
       "      <th>Sample</th>\n",
       "      <th>Population</th>\n",
       "    </tr>\n",
       "  </thead>\n",
       "  <tbody>\n",
       "    <tr>\n",
       "      <th>0</th>\n",
       "      <td>HG00096</td>\n",
       "      <td>GBR</td>\n",
       "    </tr>\n",
       "    <tr>\n",
       "      <th>1</th>\n",
       "      <td>HG00097</td>\n",
       "      <td>GBR</td>\n",
       "    </tr>\n",
       "    <tr>\n",
       "      <th>2</th>\n",
       "      <td>HG00099</td>\n",
       "      <td>GBR</td>\n",
       "    </tr>\n",
       "    <tr>\n",
       "      <th>3</th>\n",
       "      <td>HG00100</td>\n",
       "      <td>GBR</td>\n",
       "    </tr>\n",
       "    <tr>\n",
       "      <th>4</th>\n",
       "      <td>HG00101</td>\n",
       "      <td>GBR</td>\n",
       "    </tr>\n",
       "  </tbody>\n",
       "</table>\n",
       "</div>"
      ],
      "text/plain": [
       "    Sample Population\n",
       "0  HG00096        GBR\n",
       "1  HG00097        GBR\n",
       "2  HG00099        GBR\n",
       "3  HG00100        GBR\n",
       "4  HG00101        GBR"
      ]
     },
     "execution_count": 8,
     "metadata": {},
     "output_type": "execute_result"
    }
   ],
   "source": [
    "# read into dataframe\n",
    "df = pd.read_csv(pop_csv_path)\n",
    "df.head()"
   ]
  },
  {
   "cell_type": "code",
   "execution_count": 9,
   "metadata": {},
   "outputs": [],
   "source": [
    "# convert to dictionary with population as the key\n",
    "df_dict = {}\n",
    "for row in df.iterrows():\n",
    "    sample_id, pop = row[1].values\n",
    "    \n",
    "    if pop not in df_dict:\n",
    "        df_dict[pop] = []\n",
    "        \n",
    "    l = df_dict[pop]\n",
    "    l.append(sample_id)\n",
    "    df_dict[pop] = l"
   ]
  },
  {
   "cell_type": "code",
   "execution_count": 10,
   "metadata": {},
   "outputs": [
    {
     "data": {
      "image/png": "[encoded data removed]",
      "text/plain": [
       "<Figure size 2160x576 with 1 Axes>"
      ]
     },
     "metadata": {
      "needs_background": "light"
     },
     "output_type": "display_data"
    }
   ],
   "source": [
    "pop = ['CHB','JPT','CHS','CDX','KHV','CEU','TSI','FIN','GBR','IBS','YRI','LWK','GWD','MSL','ESN','ASW','ACB','MXL','PUR','CLM','PEL','GIH','PJL','BEB','STU','ITU']\n",
    "num_pop = []\n",
    "for p in pop:\n",
    "    num_pop.append(len(df_dict[p]))\n",
    "\n",
    "pop_data = pd.DataFrame(list(zip(pop, num_pop)), columns=['population', 'number'])\n",
    "\n",
    "plt.figure(figsize=(30,8))\n",
    "sns.set()\n",
    "ax = sns.barplot(x=\"population\", y=\"number\", data=pop_data)\n"
   ]
  },
  {
   "cell_type": "markdown",
   "metadata": {},
   "source": [
    "Extract 6 populations. Pick 2 populations from 3 super populations according to https://www.internationalgenome.org/category/population/\n",
    "* AFR, African\n",
    "* AMR, Ad Mixed American\n",
    "* EAS, East Asian\n",
    "* EUR, European\n",
    "* SAS, South Asian\n",
    "\n",
    "Chosen Populations:\n",
    "* EAS: CHS, KHV\n",
    "* AFR: LWK, GWD\n",
    "* AMR: PUR, CLM"
   ]
  },
  {
   "cell_type": "code",
   "execution_count": 11,
   "metadata": {},
   "outputs": [],
   "source": [
    "# extract the 6 chosen populations\n",
    "sub_pop_key = ['CHS', 'KHV', 'LWK', 'GWD', 'PUR', 'CLM']\n",
    "\n",
    "sub_sample = []\n",
    "sub_pop = []\n",
    "\n",
    "for k in sub_pop_key:\n",
    "    sub_sample = sub_sample + df_dict[k]\n",
    "    for i in range(len(df_dict[k])):\n",
    "        sub_pop.append(k)"
   ]
  },
  {
   "cell_type": "code",
   "execution_count": 12,
   "metadata": {},
   "outputs": [],
   "source": [
    "# save as csv\n",
    "df_out = pd.DataFrame(list(zip(sub_sample,sub_pop)), columns=['Sample', 'Population'])\n",
    "\n",
    "out_path = 'data/sample_names_6_pop.csv'\n",
    "df_out.to_csv(out_path, index=False)"
   ]
  },
  {
   "cell_type": "code",
   "execution_count": 13,
   "metadata": {},
   "outputs": [
    {
     "data": {
      "image/png": "[encoded data removed]",
      "text/plain": [
       "<Figure size 432x288 with 1 Axes>"
      ]
     },
     "metadata": {},
     "output_type": "display_data"
    }
   ],
   "source": [
    "sub_pop_key = ['CHS', 'KHV', 'LWK', 'GWD', 'PUR', 'CLM']\n",
    "num_sub_pop = []\n",
    "for p in sub_pop_key:\n",
    "    num_sub_pop.append(len(df_dict[p]))\n",
    "\n",
    "sub_pop_data = pd.DataFrame(list(zip(sub_pop_key, num_sub_pop)), columns=['population', 'number'])\n",
    "\n",
    "plt.figure()\n",
    "sns.set()\n",
    "ax = sns.barplot(x=\"population\", y=\"number\", data=sub_pop_data)\n"
   ]
  },
  {
   "cell_type": "code",
   "execution_count": 14,
   "metadata": {},
   "outputs": [
    {
     "data": {
      "text/html": [
       "<div>\n",
       "<style scoped>\n",
       "    .dataframe tbody tr th:only-of-type {\n",
       "        vertical-align: middle;\n",
       "    }\n",
       "\n",
       "    .dataframe tbody tr th {\n",
       "        vertical-align: top;\n",
       "    }\n",
       "\n",
       "    .dataframe thead th {\n",
       "        text-align: right;\n",
       "    }\n",
       "</style>\n",
       "<table border=\"1\" class=\"dataframe\">\n",
       "  <thead>\n",
       "    <tr style=\"text-align: right;\">\n",
       "      <th></th>\n",
       "      <th>population</th>\n",
       "      <th>number</th>\n",
       "    </tr>\n",
       "  </thead>\n",
       "  <tbody>\n",
       "    <tr>\n",
       "      <th>0</th>\n",
       "      <td>CHS</td>\n",
       "      <td>105</td>\n",
       "    </tr>\n",
       "    <tr>\n",
       "      <th>1</th>\n",
       "      <td>KHV</td>\n",
       "      <td>99</td>\n",
       "    </tr>\n",
       "    <tr>\n",
       "      <th>2</th>\n",
       "      <td>LWK</td>\n",
       "      <td>99</td>\n",
       "    </tr>\n",
       "    <tr>\n",
       "      <th>3</th>\n",
       "      <td>GWD</td>\n",
       "      <td>113</td>\n",
       "    </tr>\n",
       "    <tr>\n",
       "      <th>4</th>\n",
       "      <td>PUR</td>\n",
       "      <td>104</td>\n",
       "    </tr>\n",
       "    <tr>\n",
       "      <th>5</th>\n",
       "      <td>CLM</td>\n",
       "      <td>94</td>\n",
       "    </tr>\n",
       "  </tbody>\n",
       "</table>\n",
       "</div>"
      ],
      "text/plain": [
       "  population  number\n",
       "0        CHS     105\n",
       "1        KHV      99\n",
       "2        LWK      99\n",
       "3        GWD     113\n",
       "4        PUR     104\n",
       "5        CLM      94"
      ]
     },
     "execution_count": 14,
     "metadata": {},
     "output_type": "execute_result"
    }
   ],
   "source": [
    "sub_pop_data"
   ]
  },
  {
   "cell_type": "code",
   "execution_count": null,
   "metadata": {},
   "outputs": [],
   "source": []
  }
 ],
 "metadata": {
  "kernelspec": {
   "display_name": "Python 3",
   "language": "python",
   "name": "python3"
  },
  "language_info": {
   "codemirror_mode": {
    "name": "ipython",
    "version": 3
   },
   "file_extension": ".py",
   "mimetype": "text/x-python",
   "name": "python",
   "nbconvert_exporter": "python",
   "pygments_lexer": "ipython3",
   "version": "3.7.3"
  }
 },
 "nbformat": 4,
 "nbformat_minor": 4
}
