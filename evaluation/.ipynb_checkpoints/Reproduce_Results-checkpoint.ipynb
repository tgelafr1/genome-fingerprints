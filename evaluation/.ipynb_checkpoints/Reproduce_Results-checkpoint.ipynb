{
 "cells": [
  {
   "cell_type": "code",
   "execution_count": 1,
   "metadata": {},
   "outputs": [],
   "source": [
    "import os\n",
    "import subprocess\n",
    "from pathlib import Path\n",
    "import numpy as np\n",
    "import pandas as pd\n",
    "import matplotlib.pyplot as plt\n",
    "import seaborn as sns"
   ]
  },
  {
   "cell_type": "code",
   "execution_count": 2,
   "metadata": {},
   "outputs": [],
   "source": [
    "# get list of genome files\n",
    "data_directory = '/Users/victor/Documents/1000genomes/'\n",
    "file_names = [x for x in os.listdir(data_directory) if x.endswith('.vcf.gz')]\n",
    "ch_names = [x.split('.')[1] for x in file_names]\n",
    "\n",
    "genome_files = dict(zip(ch_names,file_names))"
   ]
  },
  {
   "cell_type": "code",
   "execution_count": 3,
   "metadata": {},
   "outputs": [],
   "source": [
    "# generate fingerprints with k = 2 (original algorithm)\n",
    "for k in genome_files.keys():\n",
    "    id = '/Users/victor/github/genome-fingerprinting/data/results/' + k + '_k2'\n",
    "    file_path = '/Users/victor/Documents/1000genomes/' + genome_files[k]    \n",
    "\n",
    "    os.system('perl bin_orig/computeDMF.pl' + ' ' + id + ' ' + file_path)"
   ]
  },
  {
   "cell_type": "code",
   "execution_count": 4,
   "metadata": {},
   "outputs": [
    {
     "data": {
      "text/plain": [
       "b'/Users/victor/github/genome-fingerprints/evaluation\\n'"
      ]
     },
     "execution_count": 4,
     "metadata": {},
     "output_type": "execute_result"
    }
   ],
   "source": [
    "subprocess.check_output('pwd', stderr=subprocess.STDOUT)"
   ]
  },
  {
   "cell_type": "code",
   "execution_count": 5,
   "metadata": {},
   "outputs": [
    {
     "name": "stdout",
     "output_type": "stream",
     "text": [
      "/Users/victor/github/genome-fingerprinting/data/results/chr18_k2\n",
      "/Users/victor/Documents/1000genomes/ALL.chr18.phase3_shapeit2_mvncall_integrated_v5a.20130502.genotypes.vcf.gz\n"
     ]
    }
   ],
   "source": [
    "print(id)\n",
    "print(file_path)"
   ]
  },
  {
   "cell_type": "code",
   "execution_count": 6,
   "metadata": {},
   "outputs": [
    {
     "name": "stdout",
     "output_type": "stream",
     "text": [
      "perl bin_orig/computeDMF.pl /Users/victor/github/genome-fingerprinting/data/results/chr18_k2 /Users/victor/Documents/1000genomes/ALL.chr18.phase3_shapeit2_mvncall_integrated_v5a.20130502.genotypes.vcf.gz\n"
     ]
    }
   ],
   "source": [
    "print('perl bin_orig/computeDMF.pl' + ' ' + id + ' ' + file_path)"
   ]
  },
  {
   "cell_type": "code",
   "execution_count": 7,
   "metadata": {},
   "outputs": [
    {
     "data": {
      "text/plain": [
       "512"
      ]
     },
     "execution_count": 7,
     "metadata": {},
     "output_type": "execute_result"
    }
   ],
   "source": [
    "os.system('perl bin_orig/computeDMF.pl' + ' ' + id + ' ' + file_path)"
   ]
  },
  {
   "cell_type": "code",
   "execution_count": null,
   "metadata": {},
   "outputs": [],
   "source": []
  }
 ],
 "metadata": {
  "kernelspec": {
   "display_name": "Python 3",
   "language": "python",
   "name": "python3"
  },
  "language_info": {
   "codemirror_mode": {
    "name": "ipython",
    "version": 3
   },
   "file_extension": ".py",
   "mimetype": "text/x-python",
   "name": "python",
   "nbconvert_exporter": "python",
   "pygments_lexer": "ipython3",
   "version": "3.7.3"
  }
 },
 "nbformat": 4,
 "nbformat_minor": 4
}
