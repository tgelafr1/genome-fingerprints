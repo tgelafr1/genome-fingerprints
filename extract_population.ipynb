{
 "cells": [
  {
   "cell_type": "code",
   "execution_count": 1,
   "metadata": {},
   "outputs": [],
   "source": [
    "import pandas as pd\n",
    "import matplotlib.pyplot as plt\n",
    "import seaborn as sns"
   ]
  },
  {
   "cell_type": "code",
   "execution_count": 2,
   "metadata": {},
   "outputs": [],
   "source": [
    "# population csv\n",
    "pop_csv_path = '/home/victor/Documents/actual_sample_names.csv'"
   ]
  },
  {
   "cell_type": "code",
   "execution_count": 3,
   "metadata": {},
   "outputs": [
    {
     "data": {
      "text/html": [
       "<div>\n",
       "<style scoped>\n",
       "    .dataframe tbody tr th:only-of-type {\n",
       "        vertical-align: middle;\n",
       "    }\n",
       "\n",
       "    .dataframe tbody tr th {\n",
       "        vertical-align: top;\n",
       "    }\n",
       "\n",
       "    .dataframe thead th {\n",
       "        text-align: right;\n",
       "    }\n",
       "</style>\n",
       "<table border=\"1\" class=\"dataframe\">\n",
       "  <thead>\n",
       "    <tr style=\"text-align: right;\">\n",
       "      <th></th>\n",
       "      <th>Sample</th>\n",
       "      <th>Population</th>\n",
       "    </tr>\n",
       "  </thead>\n",
       "  <tbody>\n",
       "    <tr>\n",
       "      <th>0</th>\n",
       "      <td>HG00096</td>\n",
       "      <td>GBR</td>\n",
       "    </tr>\n",
       "    <tr>\n",
       "      <th>1</th>\n",
       "      <td>HG00097</td>\n",
       "      <td>GBR</td>\n",
       "    </tr>\n",
       "    <tr>\n",
       "      <th>2</th>\n",
       "      <td>HG00099</td>\n",
       "      <td>GBR</td>\n",
       "    </tr>\n",
       "    <tr>\n",
       "      <th>3</th>\n",
       "      <td>HG00100</td>\n",
       "      <td>GBR</td>\n",
       "    </tr>\n",
       "    <tr>\n",
       "      <th>4</th>\n",
       "      <td>HG00101</td>\n",
       "      <td>GBR</td>\n",
       "    </tr>\n",
       "    <tr>\n",
       "      <th>...</th>\n",
       "      <td>...</td>\n",
       "      <td>...</td>\n",
       "    </tr>\n",
       "    <tr>\n",
       "      <th>2499</th>\n",
       "      <td>NA21137</td>\n",
       "      <td>GIH</td>\n",
       "    </tr>\n",
       "    <tr>\n",
       "      <th>2500</th>\n",
       "      <td>NA21141</td>\n",
       "      <td>GIH</td>\n",
       "    </tr>\n",
       "    <tr>\n",
       "      <th>2501</th>\n",
       "      <td>NA21142</td>\n",
       "      <td>GIH</td>\n",
       "    </tr>\n",
       "    <tr>\n",
       "      <th>2502</th>\n",
       "      <td>NA21143</td>\n",
       "      <td>GIH</td>\n",
       "    </tr>\n",
       "    <tr>\n",
       "      <th>2503</th>\n",
       "      <td>NA21144</td>\n",
       "      <td>GIH</td>\n",
       "    </tr>\n",
       "  </tbody>\n",
       "</table>\n",
       "<p>2504 rows × 2 columns</p>\n",
       "</div>"
      ],
      "text/plain": [
       "       Sample Population\n",
       "0     HG00096        GBR\n",
       "1     HG00097        GBR\n",
       "2     HG00099        GBR\n",
       "3     HG00100        GBR\n",
       "4     HG00101        GBR\n",
       "...       ...        ...\n",
       "2499  NA21137        GIH\n",
       "2500  NA21141        GIH\n",
       "2501  NA21142        GIH\n",
       "2502  NA21143        GIH\n",
       "2503  NA21144        GIH\n",
       "\n",
       "[2504 rows x 2 columns]"
      ]
     },
     "execution_count": 3,
     "metadata": {},
     "output_type": "execute_result"
    }
   ],
   "source": [
    "# read into dataframe\n",
    "df = pd.read_csv(pop_csv_path)\n",
    "df"
   ]
  },
  {
   "cell_type": "code",
   "execution_count": 4,
   "metadata": {},
   "outputs": [],
   "source": [
    "# convert to dictionary with population as the key\n",
    "df_dict = {}\n",
    "for row in df.iterrows():\n",
    "    sample_id, pop = row[1].values\n",
    "    \n",
    "    if pop not in df_dict:\n",
    "        df_dict[pop] = []\n",
    "        \n",
    "    l = df_dict[pop]\n",
    "    l.append(sample_id)\n",
    "    df_dict[pop] = l"
   ]
  },
  {
   "cell_type": "code",
   "execution_count": 5,
   "metadata": {},
   "outputs": [
    {
     "data": {
      "image/png": "[encoded data removed]",
      "text/plain": [
       "<Figure size 2160x576 with 1 Axes>"
      ]
     },
     "metadata": {
      "needs_background": "light"
     },
     "output_type": "display_data"
    }
   ],
   "source": [
    "pop = ['CHB','JPT','CHS','CDX','KHV','CEU','TSI','FIN','GBR','IBS','YRI','LWK','GWD','MSL','ESN','ASW','ACB','MXL','PUR','CLM','PEL','GIH','PJL','BEB','STU','ITU']\n",
    "num_pop = []\n",
    "for p in pop:\n",
    "    num_pop.append(len(df_dict[p]))\n",
    "\n",
    "pop_data = pd.DataFrame(list(zip(pop, num_pop)), columns=['population', 'number'])\n",
    "\n",
    "plt.figure(figsize=(30,8))\n",
    "sns.set()\n",
    "ax = sns.barplot(x=\"population\", y=\"number\", data=pop_data)\n"
   ]
  },
  {
   "cell_type": "markdown",
   "metadata": {},
   "source": [
    "Extract 6 populations. Pick 2 populations from 3 super populations according to https://www.internationalgenome.org/category/population/\n",
    "* AFR, African\n",
    "* AMR, Ad Mixed American\n",
    "* EAS, East Asian\n",
    "* EUR, European\n",
    "* SAS, South Asian\n",
    "\n",
    "Chosen Populations:\n",
    "* EAS: CHS, KHV\n",
    "* AFR: LWK, GWD\n",
    "* AMR: PUR, CLM"
   ]
  },
  {
   "cell_type": "code",
   "execution_count": 6,
   "metadata": {},
   "outputs": [],
   "source": [
    "# extract the 6 chosen populations\n",
    "sub_pop_key = ['CHS', 'KHV', 'LWK', 'GWD', 'PUR', 'CLM']\n",
    "\n",
    "sub_sample = []\n",
    "sub_pop = []\n",
    "\n",
    "for k in sub_pop_key:\n",
    "    sub_sample = sub_sample + df_dict[k]\n",
    "    for i in range(len(df_dict[k])):\n",
    "        sub_pop.append(k)"
   ]
  },
  {
   "cell_type": "code",
   "execution_count": 7,
   "metadata": {},
   "outputs": [],
   "source": [
    "# save as csv\n",
    "df_out = pd.DataFrame(list(zip(sub_sample,sub_pop)), columns=['Sample', 'Population'])\n",
    "\n",
    "out_path = '/home/victor/Documents/sample_names_6_pop.csv'\n",
    "df_out.to_csv(out_path, index=False)"
   ]
  },
  {
   "cell_type": "code",
   "execution_count": null,
   "metadata": {},
   "outputs": [],
   "source": []
  },
  {
   "cell_type": "code",
   "execution_count": null,
   "metadata": {},
   "outputs": [],
   "source": []
  }
 ],
 "metadata": {
  "kernelspec": {
   "display_name": "Python 3",
   "language": "python",
   "name": "python3"
  },
  "language_info": {
   "codemirror_mode": {
    "name": "ipython",
    "version": 3
   },
   "file_extension": ".py",
   "mimetype": "text/x-python",
   "name": "python",
   "nbconvert_exporter": "python",
   "pygments_lexer": "ipython3",
   "version": "3.7.4"
  }
 },
 "nbformat": 4,
 "nbformat_minor": 4
}
